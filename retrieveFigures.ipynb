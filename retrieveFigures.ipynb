{
 "cells": [
  {
   "cell_type": "code",
   "execution_count": null,
   "metadata": {},
   "outputs": [],
   "source": [
    "import os\n",
    "import sys\n",
    "import time\n",
    "\n",
    "import matplotlib.pyplot as plt\n",
    "import numpy as np\n",
    "from torch.utils.data import TensorDataset, DataLoader\n",
    "\n",
    "from utils.dataset_init_utils import get_dataset, get_dl_test_set\n",
    "from utils.pytorchtools import EarlyStopping\n",
    "from model.slvit_ae import *\n",
    "from model.hybrid_vqvae import *\n",
    "import datetime\n",
    "\n",
    "config = {'patch_sizes_idx': 2, 'h1': 16, 'h2': 16, 'h3': 16, 'hidden_dim': 64, 'batch_size': 25,\n",
    "                      'mode': 'linear', 'lr': 0.0020005604375492943,\n",
    "                      'beta': 0.19675492940423106, 'decay': 0.9671892237064758, 'num_embeddings': 64, 'embeddings_dim':512\n",
    "                      }\n",
    "\n",
    "def transform_to_tensor(x, device):\n",
    "    x = torch.from_numpy(x)\n",
    "    return x.to(device)\n",
    "\n",
    "def output(model, data_loader):\n",
    "    model.eval()\n",
    "    with torch.no_grad():\n",
    "        i = 0\n",
    "        for data, target in data_loader:\n",
    "            if i == 0:\n",
    "                pre = model(data)[0]\n",
    "                true = target\n",
    "            else:\n",
    "                pre = torch.cat((pre, model(data)[0]), dim=0)\n",
    "                true = torch.cat((true, target), dim=0)\n",
    "            i += 1\n",
    "        return true, pre\n",
    "\n",
    "def evaluate(model, data_loader):\n",
    "    true, pre = output(model, data_loader)\n",
    "\n",
    "    nmse, mse, nmse_all = nmse_eval(true, pre)\n",
    "\n",
    "    print('\\nvalidation loss (mse): ' + format(mse.item(), '.3f'))\n",
    "    print('validation loss (nmse): ' + format(nmse.item(), '.3f'))\n",
    "    print('----------------------------------------------------\\n')\n",
    "    return nmse, mse\n",
    "\n",
    "\n",
    "\n",
    "def nmse_eval(y_true, y_pred):\n",
    "    y_true = y_true.reshape(len(y_true), -1)\n",
    "    y_pred = y_pred.reshape(len(y_pred), -1)\n",
    "\n",
    "    mse = torch.sum(abs(y_pred - y_true) ** 2, dim=1)\n",
    "    power = torch.sum(abs(y_true) ** 2, dim=1)\n",
    "\n",
    "    nmse = mse / power\n",
    "    return torch.mean(nmse), torch.mean(mse), nmse\n"
   ]
  },
  {
   "cell_type": "code",
   "execution_count": null,
   "metadata": {},
   "outputs": [],
   "source": [
    "device = \"cuda:0\"\n",
    "\n",
    "# load data\n",
    "x_train, x_val, x_test = get_dataset(\n",
    "    direction='uplink', scenario_name='mimo_umi_nlos', gap='_')\n",
    "x_test_dl_1 = get_dl_test_set(scenario_name='mimo_umi_nlos', gap='1')\n",
    "\n",
    "x_train = transform_to_tensor(x_train, device)\n",
    "x_val = transform_to_tensor(x_val, device)\n",
    "x_test = transform_to_tensor(x_test, device)\n",
    "\n",
    "x_test_dl_1 = transform_to_tensor(x_test_dl_1, device)\n",
    "\n",
    "# create dataloader\n",
    "train_data_set = TensorDataset(x_train, x_train)\n",
    "val_data_set = TensorDataset(x_val, x_val)\n",
    "test_data_set = TensorDataset(x_test, x_test)\n",
    "\n",
    "dl_test_set_1 = TensorDataset(x_test_dl_1, x_test_dl_1)\n",
    "\n",
    "train_loader = DataLoader(\n",
    "    train_data_set, batch_size=config[\"batch_size\"], shuffle=True)\n",
    "validation_loader = DataLoader(\n",
    "    val_data_set, batch_size=1000, shuffle=False)\n",
    "test_loader = DataLoader(test_data_set, batch_size=1000, shuffle=False)\n",
    "\n",
    "dl_test_loader_1 = DataLoader(\n",
    "    dl_test_set_1, batch_size=1000, shuffle=False)\n",
    "\n",
    "patch_size_combinations = [\n",
    "    [8, 8],\n",
    "    [4, 16],\n",
    "    [2, 32],\n",
    "    [1, 64],\n",
    "    [2, 64],\n",
    "    [4, 32],\n",
    "    [8, 16],\n",
    "    [4, 8],\n",
    "    [2, 16],\n",
    "    [1, 32]\n",
    "]\n",
    "\n",
    "idx = config[\"patch_sizes_idx\"]\n",
    "\n",
    "p1 = patch_size_combinations[idx][0]\n",
    "p2 = patch_size_combinations[idx][1]\n",
    "\n",
    "now = datetime.datetime.now()\n",
    "foldername = 'resVQVAE_' + now.strftime(\"%Y-%m-%d %H-%M-%S\")\n",
    "\n",
    "   #for j, key in enumerate(config.keys()):\n",
    "   #    foldername += f'{key}_{config[key]}_'\n",
    "\n",
    "if not os.path.exists(foldername):\n",
    "        os.mkdir(foldername)\n",
    "\n",
    "model = NDVitResVAE(\n",
    "        dims_enc=[128, 64, 32],\n",
    "        heads_enc=[config[\"h1\"], config[\"h2\"], config[\"h3\"]],\n",
    "        overall_dim=2048,\n",
    "        p1=p1,\n",
    "        p2=p2,\n",
    "        hidden_dim=config[\"hidden_dim\"],\n",
    "        mode=config[\"mode\"],\n",
    "        num_embeddings=config[\"num_embeddings\"],\n",
    "        embedding_dim=config[\"embeddings_dim\"],\n",
    "        succ_prob=1/config['embeddings_dim'],\n",
    "        decay=config[\"decay\"],\n",
    "        beta=0.25\n",
    "    ).to(device=device)\n"
   ]
  },
  {
   "cell_type": "code",
   "execution_count": null,
   "metadata": {},
   "outputs": [],
   "source": [
    "model_dict=torch.load('resVQVAE_2023-09-30 17-38-36/checkpoint.pt')\n",
    "model.load_state_dict(model_dict)\n",
    "model.eval()"
   ]
  },
  {
   "cell_type": "code",
   "execution_count": null,
   "metadata": {},
   "outputs": [],
   "source": [
    "true_channels, pred_channels = output(model, test_loader)\n",
    "nmse_test, mse_test, nmse_ul = nmse_eval(true_channels, pred_channels)\n",
    "true_channels, pred_channels = output(model, dl_test_loader_1)\n",
    "nmse_test, mse_test, nmse_dl_1 = nmse_eval(true_channels, pred_channels)"
   ]
  },
  {
   "cell_type": "code",
   "execution_count": null,
   "metadata": {},
   "outputs": [],
   "source": [
    "nmseul_log = 10*np.log10(nmse_ul.cpu())\n",
    "\n",
    "# getting data of the histogram\n",
    "count, bins_count = np.histogram(nmseul_log, bins=50)\n",
    "  \n",
    "# finding the PDF of the histogram using count values\n",
    "pdf = count / sum(count)\n",
    "  \n",
    "# using numpy np.cumsum to calculate the CDF\n",
    "# We can also find using the PDF values by looping and adding\n",
    "cdf = np.cumsum(pdf)\n",
    "  \n",
    "# plotting PDF and CDF\n",
    "#plt.plot(bins_count[1:], pdf, color=\"red\", label=\"PDF\")\n",
    "plt.plot(bins_count[1:], cdf, label=\"CDF\")\n",
    "plt.legend()"
   ]
  },
  {
   "cell_type": "code",
   "execution_count": 11,
   "metadata": {},
   "outputs": [],
   "source": [
    "import torch\n",
    "import torch.nn as nn\n",
    "import scipy.io as scio\n",
    "import h5py\n",
    "import numpy as np"
   ]
  },
  {
   "cell_type": "code",
   "execution_count": 17,
   "metadata": {},
   "outputs": [
    {
     "name": "stdout",
     "output_type": "stream",
     "text": [
      "<KeysViewHDF5 ['val']>\n",
      "ValuesViewHDF5(<HDF5 file \"val.mat\" (mode r)>)\n"
     ]
    }
   ],
   "source": [
    "data = h5py.File(r'E:\\\\Code_shaohua\\\\datasets\\\\qdg_umi5g_7p68\\\\val.mat')\n",
    "\n",
    "print(data.keys())\n",
    "print(data.values())\n",
    "train = np.array(data['val'])"
   ]
  },
  {
   "cell_type": "code",
   "execution_count": 15,
   "metadata": {},
   "outputs": [
    {
     "name": "stdout",
     "output_type": "stream",
     "text": [
      "(30000, 32, 64)\n"
     ]
    }
   ],
   "source": [
    "print(train.shape)"
   ]
  },
  {
   "cell_type": "code",
   "execution_count": 16,
   "metadata": {},
   "outputs": [
    {
     "ename": "TypeError",
     "evalue": "'KeysViewHDF5' object is not subscriptable",
     "output_type": "error",
     "traceback": [
      "\u001b[1;31m---------------------------------------------------------------------------\u001b[0m",
      "\u001b[1;31mTypeError\u001b[0m                                 Traceback (most recent call last)",
      "\u001b[1;32me:\\Code_shaohua\\Python\\QCSMIMO\\retrieveFigures.ipynb 单元格 9\u001b[0m line \u001b[0;36m1\n\u001b[1;32m----> <a href='vscode-notebook-cell:/e%3A/Code_shaohua/Python/QCSMIMO/retrieveFigures.ipynb#X11sZmlsZQ%3D%3D?line=0'>1</a>\u001b[0m data\u001b[39m.\u001b[39;49mkeys()[\u001b[39m0\u001b[39;49m]\n",
      "\u001b[1;31mTypeError\u001b[0m: 'KeysViewHDF5' object is not subscriptable"
     ]
    }
   ],
   "source": [
    "data."
   ]
  },
  {
   "cell_type": "code",
   "execution_count": null,
   "metadata": {},
   "outputs": [],
   "source": []
  }
 ],
 "metadata": {
  "kernelspec": {
   "display_name": "Wenyu",
   "language": "python",
   "name": "python3"
  },
  "language_info": {
   "codemirror_mode": {
    "name": "ipython",
    "version": 3
   },
   "file_extension": ".py",
   "mimetype": "text/x-python",
   "name": "python",
   "nbconvert_exporter": "python",
   "pygments_lexer": "ipython3",
   "version": "3.9.18"
  },
  "orig_nbformat": 4
 },
 "nbformat": 4,
 "nbformat_minor": 2
}
